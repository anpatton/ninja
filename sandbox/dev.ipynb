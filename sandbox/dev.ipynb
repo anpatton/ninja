{
 "cells": [
  {
   "cell_type": "code",
   "execution_count": 32,
   "metadata": {},
   "outputs": [],
   "source": [
    "import polars as pl\n",
    "import pandas as pd\n",
    "import numpy as np\n",
    "import pybaseball as pb\n"
   ]
  },
  {
   "cell_type": "code",
   "execution_count": null,
   "metadata": {},
   "outputs": [],
   "source": [
    "p1 = 605400 #Aaron Nola\n",
    "p2 = 668873 #Caleb Killian\n",
    "\n",
    "p1_data = pb.statcast_pitcher(\"2024-09-23\", \"2024-09-23\", player_id=p1)\n",
    "p2_data = pb.statcast_pitcher(\"2024-09-23\", \"2024-09-23\", player_id=p2)\n",
    "pitch_data = (pl.from_pandas(pd.concat([p1_data, p2_data]))\n",
    "                .with_columns(pl.concat_str([pl.col(\"game_pk\"),\n",
    "                                            pl.col(\"home_team\"),\n",
    "                                            pl.col(\"pitcher\"),\n",
    "                                            pl.col(\"at_bat_number\"),\n",
    "                                            pl.col(\"pitch_number\")],\n",
    "                              separator=\"-\").alias(\"pitch_id\")))\n"
   ]
  },
  {
   "cell_type": "code",
   "execution_count": 37,
   "metadata": {},
   "outputs": [],
   "source": [
    "info_features = [\"game_date\", \"game_pk\", \"home_team\", \"away_team\", \"player_name\"]\n",
    "event_features = [\"events\", \"description\", \"type\", \"bb_type\", \"balls\", \"strikes\", \"inning\", \"outs_when_up\", \"des\", \"batter\", \"pitcher\"]\n",
    "release_pitcher_features = [\"release_pos_x\", \"release_pos_y\", \"release_pos_z\", \"release_extension\", \"arm_angle\"]\n",
    "release_ball_features = [\"release_speed\", \"release_spin\", \"spin_axis\"]\n",
    "traj_ball_features = [\"pfx_x\", \"pfx_z\", \"vx0\", \"vy0\", \"vz0\", \"ax\", \"ay\", \"az\"]\n",
    "plate_ball_features = [\"plate_x\", \"plate_z\"]\n",
    "pitch_id = [\"pitch_id\"]"
   ]
  },
  {
   "cell_type": "code",
   "execution_count": 38,
   "metadata": {},
   "outputs": [],
   "source": [
    "release_frame = pitch_data.select(release_pitcher_features + [\"pitcher\", \"pitch_type\", \"pitch_id\"])"
   ]
  },
  {
   "cell_type": "code",
   "execution_count": 42,
   "metadata": {},
   "outputs": [],
   "source": [
    "release_frame_agg = (\n",
    "    release_frame.group_by(['pitcher', 'pitch_type'])\n",
    "                .agg([\n",
    "                    pl.col('release_pos_x').mean().alias('release_pos_x_mean'),\n",
    "                    pl.col('release_pos_x').std().alias('release_pos_x_std'),\n",
    "                    pl.col('release_pos_y').mean().alias('release_pos_y_mean'),\n",
    "                    pl.col('release_pos_y').std().alias('release_pos_y_std'),\n",
    "                    pl.col('release_pos_z').mean().alias('release_pos_z_mean'),\n",
    "                    pl.col('release_pos_z').std().alias('release_pos_z_std'),\n",
    "                    pl.col('release_extension').mean().alias('release_extension_mean'),\n",
    "                    pl.col('release_extension').std().alias('release_extension_std'),\n",
    "                    pl.col('arm_angle').mean().alias('arm_angle_mean'),\n",
    "                    pl.col('arm_angle').std().alias('arm_angle_std'),\n",
    "                    pl.len().alias('count')\n",
    "                ])\n",
    ")\n"
   ]
  },
  {
   "cell_type": "code",
   "execution_count": null,
   "metadata": {},
   "outputs": [],
   "source": [
    "release_frame_agg"
   ]
  },
  {
   "cell_type": "code",
   "execution_count": null,
   "metadata": {},
   "outputs": [],
   "source": [
    "vals = release_frame.filter(pl.col(\"pitch_type\") == \"KC\").filter(pl.col(\"pitcher\") == 605400).select(\"release_pos_z\")\n",
    "\n",
    "\n",
    "plot_histogram(vals, bins=10)"
   ]
  },
  {
   "cell_type": "code",
   "execution_count": null,
   "metadata": {},
   "outputs": [],
   "source": [
    "vals1 = release_frame.filter(pl.col(\"pitch_type\") == \"KC\").filter(pl.col(\"pitcher\") == 605400).select(\"release_pos_y\")\n",
    "vals2 = release_frame.filter(pl.col(\"pitch_type\") == \"KC\").filter(pl.col(\"pitcher\") == 605400).select(\"release_pos_x\")\n",
    "\n",
    "plot_scatter(vals1, vals2)\n"
   ]
  },
  {
   "cell_type": "code",
   "execution_count": 71,
   "metadata": {},
   "outputs": [],
   "source": [
    "import polars as pl\n",
    "\n",
    "def distance_stats_from_centroid(df, x_col, y_col, z_col, group_cols):\n",
    "    # Create expressions for the centroid calculations\n",
    "    centroid_x = pl.col(x_col).mean().alias(\"centroid_x\")\n",
    "    centroid_y = pl.col(y_col).mean().alias(\"centroid_y\")\n",
    "    centroid_z = pl.col(z_col).mean().alias(\"centroid_z\")\n",
    "    \n",
    "    # Expression for calculating Euclidean distance\n",
    "    distance_expr = (\n",
    "        ((pl.col(x_col) - pl.col(\"centroid_x\")) ** 2 +\n",
    "         (pl.col(y_col) - pl.col(\"centroid_y\")) ** 2 +\n",
    "         (pl.col(z_col) - pl.col(\"centroid_z\")) ** 2)\n",
    "        .sqrt()\n",
    "        .alias(\"distance\")\n",
    "    )\n",
    "    \n",
    "    # Group, calculate centroids, distances, mean and standard deviation\n",
    "    result = (\n",
    "        df\n",
    "        .group_by(group_cols)\n",
    "        .agg(\n",
    "            centroid_x,\n",
    "            centroid_y,\n",
    "            centroid_z\n",
    "        )\n",
    "        .join(df, on=group_cols)\n",
    "        .with_columns([\n",
    "            distance_expr\n",
    "        ])\n",
    "        .group_by(group_cols)\n",
    "        .agg([\n",
    "            pl.col(\"distance\").mean().alias(\"mean_distance\"),\n",
    "            pl.col(\"distance\").std().alias(\"std_dev_distance\")\n",
    "        ])\n",
    "    )\n",
    "    \n",
    "    return result\n",
    "\n",
    "# Example usage:\n",
    "# data = pl.DataFrame({\n",
    "#     'x': [1, 2, 3, 4, 5, 6],\n",
    "#     'y': [7, 8, 9, 10, 11, 12],\n",
    "#     'z': [13, 14, 15, 16, 17, 18],\n",
    "#     'group1': ['A', 'A', 'A', 'B', 'B', 'B'],\n",
    "#     'group2': [1, 1, 2, 2, 3, 3]\n",
    "# })\n",
    "# result = distance_stats_from_centroid(data, 'x', 'y', 'z', ['group1', 'group2'])"
   ]
  },
  {
   "cell_type": "code",
   "execution_count": 72,
   "metadata": {},
   "outputs": [],
   "source": [
    "res = distance_stats_from_centroid(pitch_data, \"release_pos_x\", \"release_pos_y\", \"release_pos_z\", [\"pitcher\", \"pitch_type\"])"
   ]
  },
  {
   "cell_type": "code",
   "execution_count": 73,
   "metadata": {},
   "outputs": [
    {
     "data": {
      "text/html": [
       "<div><style>\n",
       ".dataframe > thead > tr,\n",
       ".dataframe > tbody > tr {\n",
       "  text-align: right;\n",
       "  white-space: pre-wrap;\n",
       "}\n",
       "</style>\n",
       "<small>shape: (11, 4)</small><table border=\"1\" class=\"dataframe\"><thead><tr><th>pitcher</th><th>pitch_type</th><th>mean_distance</th><th>std_dev_distance</th></tr><tr><td>i64</td><td>str</td><td>f64</td><td>f64</td></tr></thead><tbody><tr><td>605400</td><td>&quot;FF&quot;</td><td>0.107918</td><td>0.052181</td></tr><tr><td>668873</td><td>&quot;ST&quot;</td><td>0.10518</td><td>0.043128</td></tr><tr><td>668873</td><td>&quot;FC&quot;</td><td>0.175183</td><td>0.07962</td></tr><tr><td>605400</td><td>&quot;CH&quot;</td><td>0.113059</td><td>0.047687</td></tr><tr><td>668873</td><td>&quot;SI&quot;</td><td>0.069749</td><td>0.02074</td></tr><tr><td>&hellip;</td><td>&hellip;</td><td>&hellip;</td><td>&hellip;</td></tr><tr><td>668873</td><td>&quot;CH&quot;</td><td>0.151658</td><td>4.0222e-16</td></tr><tr><td>668873</td><td>&quot;FF&quot;</td><td>0.137219</td><td>0.053715</td></tr><tr><td>605400</td><td>&quot;FC&quot;</td><td>0.098391</td><td>0.045379</td></tr><tr><td>668873</td><td>&quot;KC&quot;</td><td>0.076831</td><td>0.045291</td></tr><tr><td>605400</td><td>&quot;SI&quot;</td><td>0.142773</td><td>0.060264</td></tr></tbody></table></div>"
      ],
      "text/plain": [
       "shape: (11, 4)\n",
       "┌─────────┬────────────┬───────────────┬──────────────────┐\n",
       "│ pitcher ┆ pitch_type ┆ mean_distance ┆ std_dev_distance │\n",
       "│ ---     ┆ ---        ┆ ---           ┆ ---              │\n",
       "│ i64     ┆ str        ┆ f64           ┆ f64              │\n",
       "╞═════════╪════════════╪═══════════════╪══════════════════╡\n",
       "│ 605400  ┆ FF         ┆ 0.107918      ┆ 0.052181         │\n",
       "│ 668873  ┆ ST         ┆ 0.10518       ┆ 0.043128         │\n",
       "│ 668873  ┆ FC         ┆ 0.175183      ┆ 0.07962          │\n",
       "│ 605400  ┆ CH         ┆ 0.113059      ┆ 0.047687         │\n",
       "│ 668873  ┆ SI         ┆ 0.069749      ┆ 0.02074          │\n",
       "│ …       ┆ …          ┆ …             ┆ …                │\n",
       "│ 668873  ┆ CH         ┆ 0.151658      ┆ 4.0222e-16       │\n",
       "│ 668873  ┆ FF         ┆ 0.137219      ┆ 0.053715         │\n",
       "│ 605400  ┆ FC         ┆ 0.098391      ┆ 0.045379         │\n",
       "│ 668873  ┆ KC         ┆ 0.076831      ┆ 0.045291         │\n",
       "│ 605400  ┆ SI         ┆ 0.142773      ┆ 0.060264         │\n",
       "└─────────┴────────────┴───────────────┴──────────────────┘"
      ]
     },
     "execution_count": null,
     "metadata": {},
     "output_type": "execute_result"
    }
   ],
   "source": [
    "res"
   ]
  }
 ],
 "metadata": {
  "language_info": {
   "name": "python"
  }
 },
 "nbformat": 4,
 "nbformat_minor": 2
}

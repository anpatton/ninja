{
 "cells": [
  {
   "cell_type": "code",
   "execution_count": 15,
   "metadata": {},
   "outputs": [],
   "source": [
    "import polars as pl\n",
    "import pandas as pd\n",
    "import numpy as np\n",
    "import pybaseball as pb\n"
   ]
  },
  {
   "cell_type": "code",
   "execution_count": 16,
   "metadata": {},
   "outputs": [
    {
     "name": "stdout",
     "output_type": "stream",
     "text": [
      "Gathering Player Data\n",
      "Gathering Player Data\n"
     ]
    }
   ],
   "source": [
    "p1 = 605400 #Aaron Nola\n",
    "p2 = 668873 #Caleb Killian\n",
    "\n",
    "p1_data = pb.statcast_pitcher(\"2024-09-23\", \"2024-09-23\", player_id=p1)\n",
    "p2_data = pb.statcast_pitcher(\"2024-09-23\", \"2024-09-23\", player_id=p2)\n",
    "pitch_data = (pl.from_pandas(pd.concat([p1_data, p2_data]))\n",
    "                .with_columns(pl.concat_str([pl.col(\"game_pk\"),\n",
    "                                            pl.col(\"home_team\"),\n",
    "                                            pl.col(\"pitcher\"),\n",
    "                                            pl.col(\"at_bat_number\"),\n",
    "                                            pl.col(\"pitch_number\")],\n",
    "                              separator=\"-\").alias(\"pitch_id\")))\n"
   ]
  },
  {
   "cell_type": "code",
   "execution_count": 17,
   "metadata": {},
   "outputs": [],
   "source": [
    "info_features = [\"game_date\", \"game_pk\", \"home_team\", \"away_team\", \"player_name\"]\n",
    "event_features = [\"events\", \"description\", \"type\", \"bb_type\", \"balls\", \"strikes\", \"inning\", \"outs_when_up\", \"des\", \"batter\", \"pitcher\"]\n",
    "release_pitcher_features = [\"release_pos_x\", \"release_pos_y\", \"release_pos_z\", \"release_extension\", \"arm_angle\"]\n",
    "release_ball_features = [\"release_speed\", \"release_spin\", \"spin_axis\"]\n",
    "traj_ball_features = [\"pfx_x\", \"pfx_z\", \"vx0\", \"vy0\", \"vz0\", \"ax\", \"ay\", \"az\"]\n",
    "plate_ball_features = [\"plate_x\", \"plate_z\"]\n",
    "pitch_id = [\"pitch_id\"]"
   ]
  },
  {
   "cell_type": "code",
   "execution_count": 18,
   "metadata": {},
   "outputs": [],
   "source": [
    "release_frame = pitch_data.select(release_pitcher_features + [\"pitcher\", \"pitch_type\", \"pitch_id\"])"
   ]
  },
  {
   "cell_type": "code",
   "execution_count": 19,
   "metadata": {},
   "outputs": [
    {
     "ename": "NameError",
     "evalue": "name 'release_frame_agg' is not defined",
     "output_type": "error",
     "traceback": [
      "\u001b[0;31m---------------------------------------------------------------------------\u001b[0m\n",
      "\u001b[0;31mNameError\u001b[0m                                 Traceback (most recent call last)\n",
      "Cell \u001b[0;32mIn[19], line 1\u001b[0m\n",
      "\u001b[0;32m----> 1\u001b[0m \u001b[43mrelease_frame_agg\u001b[49m\n",
      "\n",
      "\u001b[0;31mNameError\u001b[0m: name 'release_frame_agg' is not defined"
     ]
    }
   ],
   "source": [
    "release_frame_agg"
   ]
  },
  {
   "cell_type": "code",
   "execution_count": null,
   "metadata": {},
   "outputs": [],
   "source": [
    "vals = release_frame.filter(pl.col(\"pitch_type\") == \"KC\").filter(pl.col(\"pitcher\") == 605400).select(\"release_pos_z\")\n",
    "\n",
    "\n",
    "plot_histogram(vals, bins=10)"
   ]
  },
  {
   "cell_type": "code",
   "execution_count": null,
   "metadata": {},
   "outputs": [],
   "source": [
    "vals1 = release_frame.filter(pl.col(\"pitch_type\") == \"KC\").filter(pl.col(\"pitcher\") == 605400).select(\"release_pos_y\")\n",
    "vals2 = release_frame.filter(pl.col(\"pitch_type\") == \"KC\").filter(pl.col(\"pitcher\") == 605400).select(\"release_pos_x\")\n",
    "\n",
    "plot_scatter(vals1, vals2)\n"
   ]
  },
  {
   "cell_type": "code",
   "execution_count": 71,
   "metadata": {},
   "outputs": [],
   "source": [
    "import polars as pl\n",
    "\n",
    "def distance_stats_from_centroid(df, x_col, y_col, z_col, group_cols):\n",
    "    # Create expressions for the centroid calculations\n",
    "    centroid_x = pl.col(x_col).mean().alias(\"centroid_x\")\n",
    "    centroid_y = pl.col(y_col).mean().alias(\"centroid_y\")\n",
    "    centroid_z = pl.col(z_col).mean().alias(\"centroid_z\")\n",
    "    \n",
    "    # Expression for calculating Euclidean distance\n",
    "    distance_expr = (\n",
    "        ((pl.col(x_col) - pl.col(\"centroid_x\")) ** 2 +\n",
    "         (pl.col(y_col) - pl.col(\"centroid_y\")) ** 2 +\n",
    "         (pl.col(z_col) - pl.col(\"centroid_z\")) ** 2)\n",
    "        .sqrt()\n",
    "        .alias(\"distance\")\n",
    "    )\n",
    "    \n",
    "    # Group, calculate centroids, distances, mean and standard deviation\n",
    "    result = (\n",
    "        df\n",
    "        .group_by(group_cols)\n",
    "        .agg(\n",
    "            centroid_x,\n",
    "            centroid_y,\n",
    "            centroid_z\n",
    "        )\n",
    "        .join(df, on=group_cols)\n",
    "        .with_columns([\n",
    "            distance_expr\n",
    "        ])\n",
    "        .group_by(group_cols)\n",
    "        .agg([\n",
    "            pl.col(\"distance\").mean().alias(\"mean_distance\"),\n",
    "            pl.col(\"distance\").std().alias(\"std_dev_distance\")\n",
    "        ])\n",
    "    )\n",
    "    \n",
    "    return result\n",
    "\n",
    "# Example usage:\n",
    "# data = pl.DataFrame({\n",
    "#     'x': [1, 2, 3, 4, 5, 6],\n",
    "#     'y': [7, 8, 9, 10, 11, 12],\n",
    "#     'z': [13, 14, 15, 16, 17, 18],\n",
    "#     'group1': ['A', 'A', 'A', 'B', 'B', 'B'],\n",
    "#     'group2': [1, 1, 2, 2, 3, 3]\n",
    "# })\n",
    "# result = distance_stats_from_centroid(data, 'x', 'y', 'z', ['group1', 'group2'])"
   ]
  },
  {
   "cell_type": "code",
   "execution_count": 72,
   "metadata": {},
   "outputs": [],
   "source": [
    "res = distance_stats_from_centroid(pitch_data, \"release_pos_x\", \"release_pos_y\", \"release_pos_z\", [\"pitcher\", \"pitch_type\"])"
   ]
  },
  {
   "cell_type": "code",
   "execution_count": null,
   "metadata": {},
   "outputs": [],
   "source": [
    "p1_data = pb.statcast_pitcher(\"2024-09-23\", \"2024-09-23\", player_id=p1)\n"
   ]
  },
  {
   "cell_type": "code",
   "execution_count": 1,
   "metadata": {},
   "outputs": [],
   "source": [
    "import pybaseball as pb\n",
    "import polars as pl\n"
   ]
  },
  {
   "cell_type": "code",
   "execution_count": null,
   "metadata": {},
   "outputs": [],
   "source": [
    "seasons = [2021, 2022, 2023, 2024]\n",
    "season_list = []\n",
    "\n",
    "for season in seasons:\n",
    "    print(season)\n",
    "    season_frame = pl.from_pandas(pb.pitching_stats_bref(season))\n",
    "    season_frame = (season_frame\n",
    "                        .filter((pl.col(\"Lev\") == \"Maj-NL\") | (pl.col(\"Lev\") == \"Maj-AL\"))\n",
    "                        .select([\"mlbID\", \"G\", \"IP\", \"ERA\", \"WHIP\", \"SO9\"])\n",
    "                        .with_columns(pl.lit(season).alias(\"season\"))\n",
    "                        .with_columns(pl.col(\"mlbID\").cast(pl.Int64)))\n",
    "    season_list.append(season_frame)\n",
    "\n",
    "frame = pl.concat(season_list)\n",
    "frame = frame.rename({col: col.lower() for col in frame.columns})\n",
    "players = frame[\"mlbid\"].unique().to_list()\n",
    "player_info = pb.playerid_reverse_lookup(player_ids=players)\n",
    "player_info = player_info[[\"key_mlbam\", \"name_last\", \"name_first\", \"mlb_played_first\", \"mlb_played_last\"]]\n",
    "player_info = pl.from_pandas(player_info)\n",
    "player_info = (player_info.with_columns((pl.col(\"name_first\") + \" \" + pl.col(\"name_last\")).alias(\"player_name\"))\n",
    "                            .with_columns(pl.col(\"player_name\").str.to_titlecase().alias(\"player_name\")))\n",
    "player_info = player_info.rename({\"key_mlbam\": \"mlbid\"}).select([\"mlbid\", \"player_name\", \"mlb_played_first\", \"mlb_played_last\"])\n",
    "frame = frame.join(player_info, on = \"mlbid\", how = \"left\")\n",
    "frame = frame.select([\"mlbid\", \"player_name\", \"season\", \"g\", \"ip\", \"era\", \"whip\", \"so9\", \"mlb_played_first\", \"mlb_played_last\"])\n",
    "frame.write_parquet(\"pitchers.parquet\")"
   ]
  },
  {
   "cell_type": "code",
   "execution_count": 1,
   "metadata": {},
   "outputs": [],
   "source": [
    "import polars as pl\n",
    "import pybaseball as pb\n",
    "\n",
    "def get_season_start_end(season: int = 2024) -> list:\n",
    "    \"\"\"Returns a list with the first and last day of the regular season. Includes Tokyo + Korea series.\"\"\" \n",
    "\n",
    "    if season < 2021:\n",
    "        print(\"Season must be >= 2021\")\n",
    "        return\n",
    "    \n",
    "    if season == 2021:\n",
    "        return [\"2021-04-01\", \"2021-10-03\"]\n",
    "\n",
    "    if season == 2022:\n",
    "        return [\"2022-04-07\", \"2022-10-05\"]\n",
    "\n",
    "    if season == 2023:\n",
    "            return [\"2023-03-30\", \"2023-10-01\"]\n",
    "\n",
    "    if season == 2024:\n",
    "            return [\"2024-03-20\", \"2024-10-03\"]\n",
    "    \n",
    "    if season == 2025:\n",
    "            return [\"2025-03-18\", \"2025-09-28\"]\n",
    "    "
   ]
  },
  {
   "cell_type": "code",
   "execution_count": 6,
   "metadata": {},
   "outputs": [],
   "source": [
    "pitchers = pl.read_parquet(\"../src/ninjalytics/data/pitchers.parquet\")"
   ]
  },
  {
   "cell_type": "code",
   "execution_count": 20,
   "metadata": {},
   "outputs": [
    {
     "name": "stdout",
     "output_type": "stream",
     "text": [
      "[2021, 2022, 2023, 2024]\n"
     ]
    },
    {
     "name": "stderr",
     "output_type": "stream",
     "text": [
      "  0%|          | 1/520 [00:00<01:18,  6.63it/s]"
     ]
    },
    {
     "name": "stdout",
     "output_type": "stream",
     "text": [
      "Gathering Player Data\n",
      "Gathering Player Data\n"
     ]
    },
    {
     "name": "stderr",
     "output_type": "stream",
     "text": [
      "  1%|          | 3/520 [00:00<01:24,  6.12it/s]"
     ]
    },
    {
     "name": "stdout",
     "output_type": "stream",
     "text": [
      "Gathering Player Data\n",
      "Gathering Player Data\n"
     ]
    },
    {
     "name": "stderr",
     "output_type": "stream",
     "text": [
      "\r  1%|          | 4/520 [00:06<21:17,  2.47s/it]"
     ]
    },
    {
     "name": "stdout",
     "output_type": "stream",
     "text": [
      "Gathering Player Data\n"
     ]
    },
    {
     "name": "stderr",
     "output_type": "stream",
     "text": [
      "\r  1%|          | 5/520 [00:10<25:48,  3.01s/it]"
     ]
    },
    {
     "name": "stdout",
     "output_type": "stream",
     "text": [
      "Gathering Player Data\n"
     ]
    },
    {
     "name": "stderr",
     "output_type": "stream",
     "text": [
      "\r  1%|          | 6/520 [00:18<41:01,  4.79s/it]"
     ]
    },
    {
     "name": "stdout",
     "output_type": "stream",
     "text": [
      "Gathering Player Data\n"
     ]
    },
    {
     "name": "stderr",
     "output_type": "stream",
     "text": [
      "\r  1%|▏         | 7/520 [00:24<44:22,  5.19s/it]"
     ]
    },
    {
     "name": "stdout",
     "output_type": "stream",
     "text": [
      "Gathering Player Data\n"
     ]
    },
    {
     "name": "stderr",
     "output_type": "stream",
     "text": [
      "\r  2%|▏         | 8/520 [00:28<39:47,  4.66s/it]"
     ]
    },
    {
     "name": "stdout",
     "output_type": "stream",
     "text": [
      "Gathering Player Data\n"
     ]
    },
    {
     "name": "stderr",
     "output_type": "stream",
     "text": [
      "\r  2%|▏         | 9/520 [00:34<42:43,  5.02s/it]"
     ]
    },
    {
     "name": "stdout",
     "output_type": "stream",
     "text": [
      "Gathering Player Data\n"
     ]
    },
    {
     "name": "stderr",
     "output_type": "stream",
     "text": [
      "\r  2%|▏         | 10/520 [00:38<40:22,  4.75s/it]"
     ]
    },
    {
     "name": "stdout",
     "output_type": "stream",
     "text": [
      "Gathering Player Data\n"
     ]
    },
    {
     "name": "stderr",
     "output_type": "stream",
     "text": [
      "\r  2%|▏         | 11/520 [00:41<37:33,  4.43s/it]"
     ]
    },
    {
     "name": "stdout",
     "output_type": "stream",
     "text": [
      "Gathering Player Data\n"
     ]
    },
    {
     "name": "stderr",
     "output_type": "stream",
     "text": [
      "\r  2%|▏         | 12/520 [00:45<36:09,  4.27s/it]"
     ]
    },
    {
     "name": "stdout",
     "output_type": "stream",
     "text": [
      "Gathering Player Data\n"
     ]
    },
    {
     "name": "stderr",
     "output_type": "stream",
     "text": [
      "\r  2%|▎         | 13/520 [00:49<33:46,  4.00s/it]"
     ]
    },
    {
     "name": "stdout",
     "output_type": "stream",
     "text": [
      "Gathering Player Data\n"
     ]
    },
    {
     "name": "stderr",
     "output_type": "stream",
     "text": [
      "\r  3%|▎         | 14/520 [00:55<38:50,  4.61s/it]"
     ]
    },
    {
     "name": "stdout",
     "output_type": "stream",
     "text": [
      "Gathering Player Data\n"
     ]
    },
    {
     "name": "stderr",
     "output_type": "stream",
     "text": [
      "\r  3%|▎         | 15/520 [01:00<40:57,  4.87s/it]"
     ]
    },
    {
     "name": "stdout",
     "output_type": "stream",
     "text": [
      "Gathering Player Data\n"
     ]
    },
    {
     "name": "stderr",
     "output_type": "stream",
     "text": [
      "\r  3%|▎         | 16/520 [01:04<37:14,  4.43s/it]"
     ]
    },
    {
     "name": "stdout",
     "output_type": "stream",
     "text": [
      "Gathering Player Data\n"
     ]
    },
    {
     "name": "stderr",
     "output_type": "stream",
     "text": [
      "\r  3%|▎         | 17/520 [01:06<32:26,  3.87s/it]"
     ]
    },
    {
     "name": "stdout",
     "output_type": "stream",
     "text": [
      "Gathering Player Data\n"
     ]
    },
    {
     "name": "stderr",
     "output_type": "stream",
     "text": [
      "\r  3%|▎         | 18/520 [01:12<38:07,  4.56s/it]"
     ]
    },
    {
     "name": "stdout",
     "output_type": "stream",
     "text": [
      "Gathering Player Data\n"
     ]
    },
    {
     "name": "stderr",
     "output_type": "stream",
     "text": [
      "\r  4%|▎         | 19/520 [01:17<37:43,  4.52s/it]"
     ]
    },
    {
     "name": "stdout",
     "output_type": "stream",
     "text": [
      "Gathering Player Data\n"
     ]
    },
    {
     "name": "stderr",
     "output_type": "stream",
     "text": [
      "\r  4%|▍         | 20/520 [01:21<36:48,  4.42s/it]"
     ]
    },
    {
     "name": "stdout",
     "output_type": "stream",
     "text": [
      "Gathering Player Data\n"
     ]
    },
    {
     "name": "stderr",
     "output_type": "stream",
     "text": [
      "\r  4%|▍         | 21/520 [01:25<36:32,  4.39s/it]"
     ]
    },
    {
     "name": "stdout",
     "output_type": "stream",
     "text": [
      "Gathering Player Data\n"
     ]
    },
    {
     "name": "stderr",
     "output_type": "stream",
     "text": [
      "\r  4%|▍         | 22/520 [01:29<34:05,  4.11s/it]"
     ]
    },
    {
     "name": "stdout",
     "output_type": "stream",
     "text": [
      "Gathering Player Data\n"
     ]
    },
    {
     "name": "stderr",
     "output_type": "stream",
     "text": [
      "\r  4%|▍         | 23/520 [01:39<49:36,  5.99s/it]"
     ]
    },
    {
     "name": "stdout",
     "output_type": "stream",
     "text": [
      "Gathering Player Data\n"
     ]
    },
    {
     "name": "stderr",
     "output_type": "stream",
     "text": [
      "\r  5%|▍         | 24/520 [01:43<43:22,  5.25s/it]"
     ]
    },
    {
     "name": "stdout",
     "output_type": "stream",
     "text": [
      "Gathering Player Data\n"
     ]
    },
    {
     "name": "stderr",
     "output_type": "stream",
     "text": [
      "\r  5%|▍         | 25/520 [01:46<38:15,  4.64s/it]"
     ]
    },
    {
     "name": "stdout",
     "output_type": "stream",
     "text": [
      "Gathering Player Data\n"
     ]
    },
    {
     "name": "stderr",
     "output_type": "stream",
     "text": [
      "\r  5%|▌         | 26/520 [01:49<34:16,  4.16s/it]"
     ]
    },
    {
     "name": "stdout",
     "output_type": "stream",
     "text": [
      "Gathering Player Data\n"
     ]
    },
    {
     "name": "stderr",
     "output_type": "stream",
     "text": [
      "\r  5%|▌         | 27/520 [01:53<34:42,  4.22s/it]"
     ]
    },
    {
     "name": "stdout",
     "output_type": "stream",
     "text": [
      "Gathering Player Data\n"
     ]
    },
    {
     "name": "stderr",
     "output_type": "stream",
     "text": [
      "\r  5%|▌         | 28/520 [01:57<32:55,  4.01s/it]"
     ]
    },
    {
     "name": "stdout",
     "output_type": "stream",
     "text": [
      "Gathering Player Data\n"
     ]
    },
    {
     "name": "stderr",
     "output_type": "stream",
     "text": [
      "\r  6%|▌         | 29/520 [02:01<33:37,  4.11s/it]"
     ]
    },
    {
     "name": "stdout",
     "output_type": "stream",
     "text": [
      "Gathering Player Data\n"
     ]
    },
    {
     "name": "stderr",
     "output_type": "stream",
     "text": [
      "\r  6%|▌         | 30/520 [02:04<30:28,  3.73s/it]"
     ]
    },
    {
     "name": "stdout",
     "output_type": "stream",
     "text": [
      "Gathering Player Data\n"
     ]
    },
    {
     "name": "stderr",
     "output_type": "stream",
     "text": [
      "\r  6%|▌         | 31/520 [02:07<29:18,  3.60s/it]"
     ]
    },
    {
     "name": "stdout",
     "output_type": "stream",
     "text": [
      "Gathering Player Data\n"
     ]
    },
    {
     "name": "stderr",
     "output_type": "stream",
     "text": [
      "\r  6%|▌         | 32/520 [02:11<29:27,  3.62s/it]"
     ]
    },
    {
     "name": "stdout",
     "output_type": "stream",
     "text": [
      "Gathering Player Data\n"
     ]
    },
    {
     "name": "stderr",
     "output_type": "stream",
     "text": [
      "\r  6%|▋         | 33/520 [02:15<30:20,  3.74s/it]"
     ]
    },
    {
     "name": "stdout",
     "output_type": "stream",
     "text": [
      "Gathering Player Data\n"
     ]
    },
    {
     "name": "stderr",
     "output_type": "stream",
     "text": [
      "\r  7%|▋         | 34/520 [02:21<37:13,  4.60s/it]"
     ]
    },
    {
     "name": "stdout",
     "output_type": "stream",
     "text": [
      "Gathering Player Data\n"
     ]
    },
    {
     "name": "stderr",
     "output_type": "stream",
     "text": [
      "\r  7%|▋         | 35/520 [02:27<38:50,  4.81s/it]"
     ]
    },
    {
     "name": "stdout",
     "output_type": "stream",
     "text": [
      "Gathering Player Data\n"
     ]
    },
    {
     "name": "stderr",
     "output_type": "stream",
     "text": [
      "\r  7%|▋         | 36/520 [02:30<35:44,  4.43s/it]"
     ]
    },
    {
     "name": "stdout",
     "output_type": "stream",
     "text": [
      "Gathering Player Data\n"
     ]
    },
    {
     "name": "stderr",
     "output_type": "stream",
     "text": [
      "\r  7%|▋         | 37/520 [02:35<36:07,  4.49s/it]"
     ]
    },
    {
     "name": "stdout",
     "output_type": "stream",
     "text": [
      "Gathering Player Data\n"
     ]
    },
    {
     "name": "stderr",
     "output_type": "stream",
     "text": [
      "\r  7%|▋         | 38/520 [02:38<32:32,  4.05s/it]"
     ]
    },
    {
     "name": "stdout",
     "output_type": "stream",
     "text": [
      "Gathering Player Data\n"
     ]
    },
    {
     "name": "stderr",
     "output_type": "stream",
     "text": [
      "\r  8%|▊         | 39/520 [02:45<39:10,  4.89s/it]"
     ]
    },
    {
     "name": "stdout",
     "output_type": "stream",
     "text": [
      "Gathering Player Data\n"
     ]
    },
    {
     "name": "stderr",
     "output_type": "stream",
     "text": [
      "\r  8%|▊         | 40/520 [02:48<34:17,  4.29s/it]"
     ]
    },
    {
     "name": "stdout",
     "output_type": "stream",
     "text": [
      "Gathering Player Data\n"
     ]
    },
    {
     "name": "stderr",
     "output_type": "stream",
     "text": [
      "\r  8%|▊         | 41/520 [02:52<33:39,  4.22s/it]"
     ]
    },
    {
     "name": "stdout",
     "output_type": "stream",
     "text": [
      "Gathering Player Data\n"
     ]
    },
    {
     "name": "stderr",
     "output_type": "stream",
     "text": [
      "\r  8%|▊         | 42/520 [02:54<29:56,  3.76s/it]"
     ]
    },
    {
     "name": "stdout",
     "output_type": "stream",
     "text": [
      "Gathering Player Data\n"
     ]
    },
    {
     "name": "stderr",
     "output_type": "stream",
     "text": [
      "\r  8%|▊         | 43/520 [02:58<28:20,  3.57s/it]"
     ]
    },
    {
     "name": "stdout",
     "output_type": "stream",
     "text": [
      "Gathering Player Data\n"
     ]
    },
    {
     "name": "stderr",
     "output_type": "stream",
     "text": [
      "\r  8%|▊         | 44/520 [03:00<26:22,  3.32s/it]"
     ]
    },
    {
     "name": "stdout",
     "output_type": "stream",
     "text": [
      "Gathering Player Data\n"
     ]
    },
    {
     "name": "stderr",
     "output_type": "stream",
     "text": [
      "\r  9%|▊         | 45/520 [03:03<24:56,  3.15s/it]"
     ]
    },
    {
     "name": "stdout",
     "output_type": "stream",
     "text": [
      "Gathering Player Data\n"
     ]
    },
    {
     "name": "stderr",
     "output_type": "stream",
     "text": [
      "\r  9%|▉         | 46/520 [03:06<24:14,  3.07s/it]"
     ]
    },
    {
     "name": "stdout",
     "output_type": "stream",
     "text": [
      "Gathering Player Data\n"
     ]
    },
    {
     "name": "stderr",
     "output_type": "stream",
     "text": [
      "\r  9%|▉         | 47/520 [03:11<30:01,  3.81s/it]"
     ]
    },
    {
     "name": "stdout",
     "output_type": "stream",
     "text": [
      "Gathering Player Data\n"
     ]
    },
    {
     "name": "stderr",
     "output_type": "stream",
     "text": [
      "\r  9%|▉         | 48/520 [03:15<29:48,  3.79s/it]"
     ]
    },
    {
     "name": "stdout",
     "output_type": "stream",
     "text": [
      "Gathering Player Data\n"
     ]
    },
    {
     "name": "stderr",
     "output_type": "stream",
     "text": [
      "\r  9%|▉         | 49/520 [03:19<28:38,  3.65s/it]"
     ]
    },
    {
     "name": "stdout",
     "output_type": "stream",
     "text": [
      "Gathering Player Data\n"
     ]
    },
    {
     "name": "stderr",
     "output_type": "stream",
     "text": [
      "\r 10%|▉         | 50/520 [03:22<28:28,  3.64s/it]"
     ]
    },
    {
     "name": "stdout",
     "output_type": "stream",
     "text": [
      "Gathering Player Data\n"
     ]
    },
    {
     "name": "stderr",
     "output_type": "stream",
     "text": [
      "\r 10%|▉         | 51/520 [03:26<29:49,  3.82s/it]"
     ]
    },
    {
     "name": "stdout",
     "output_type": "stream",
     "text": [
      "Gathering Player Data\n"
     ]
    },
    {
     "name": "stderr",
     "output_type": "stream",
     "text": [
      "\r 10%|█         | 52/520 [03:31<30:48,  3.95s/it]"
     ]
    },
    {
     "name": "stdout",
     "output_type": "stream",
     "text": [
      "Gathering Player Data\n"
     ]
    },
    {
     "name": "stderr",
     "output_type": "stream",
     "text": [
      "\r 10%|█         | 53/520 [03:35<30:41,  3.94s/it]"
     ]
    },
    {
     "name": "stdout",
     "output_type": "stream",
     "text": [
      "Gathering Player Data\n"
     ]
    },
    {
     "name": "stderr",
     "output_type": "stream",
     "text": [
      "\r 10%|█         | 54/520 [03:38<30:23,  3.91s/it]"
     ]
    },
    {
     "name": "stdout",
     "output_type": "stream",
     "text": [
      "Gathering Player Data\n"
     ]
    },
    {
     "name": "stderr",
     "output_type": "stream",
     "text": [
      "\r 11%|█         | 55/520 [03:44<34:24,  4.44s/it]"
     ]
    },
    {
     "name": "stdout",
     "output_type": "stream",
     "text": [
      "Gathering Player Data\n"
     ]
    },
    {
     "name": "stderr",
     "output_type": "stream",
     "text": [
      "\r 11%|█         | 56/520 [03:46<28:51,  3.73s/it]"
     ]
    },
    {
     "name": "stdout",
     "output_type": "stream",
     "text": [
      "Gathering Player Data\n"
     ]
    },
    {
     "name": "stderr",
     "output_type": "stream",
     "text": [
      "\r 11%|█         | 57/520 [03:53<35:17,  4.57s/it]"
     ]
    },
    {
     "name": "stdout",
     "output_type": "stream",
     "text": [
      "Gathering Player Data\n"
     ]
    },
    {
     "name": "stderr",
     "output_type": "stream",
     "text": [
      "\r 11%|█         | 58/520 [04:01<43:21,  5.63s/it]"
     ]
    },
    {
     "name": "stdout",
     "output_type": "stream",
     "text": [
      "Gathering Player Data\n"
     ]
    },
    {
     "name": "stderr",
     "output_type": "stream",
     "text": [
      "\r 11%|█▏        | 59/520 [04:07<43:30,  5.66s/it]"
     ]
    },
    {
     "name": "stdout",
     "output_type": "stream",
     "text": [
      "Gathering Player Data\n"
     ]
    },
    {
     "name": "stderr",
     "output_type": "stream",
     "text": [
      "\r 12%|█▏        | 60/520 [04:10<37:58,  4.95s/it]"
     ]
    },
    {
     "name": "stdout",
     "output_type": "stream",
     "text": [
      "Gathering Player Data\n"
     ]
    },
    {
     "name": "stderr",
     "output_type": "stream",
     "text": [
      "\r 12%|█▏        | 61/520 [04:15<38:09,  4.99s/it]"
     ]
    },
    {
     "name": "stdout",
     "output_type": "stream",
     "text": [
      "Gathering Player Data\n"
     ]
    },
    {
     "name": "stderr",
     "output_type": "stream",
     "text": [
      "\r 12%|█▏        | 62/520 [04:22<41:49,  5.48s/it]"
     ]
    },
    {
     "name": "stdout",
     "output_type": "stream",
     "text": [
      "Gathering Player Data\n"
     ]
    },
    {
     "name": "stderr",
     "output_type": "stream",
     "text": [
      "\r 12%|█▏        | 63/520 [04:25<36:45,  4.83s/it]"
     ]
    },
    {
     "name": "stdout",
     "output_type": "stream",
     "text": [
      "Gathering Player Data\n"
     ]
    },
    {
     "name": "stderr",
     "output_type": "stream",
     "text": [
      "\r 12%|█▏        | 64/520 [04:28<33:02,  4.35s/it]"
     ]
    },
    {
     "name": "stdout",
     "output_type": "stream",
     "text": [
      "Gathering Player Data\n"
     ]
    },
    {
     "name": "stderr",
     "output_type": "stream",
     "text": [
      "\r 12%|█▎        | 65/520 [04:32<32:41,  4.31s/it]"
     ]
    },
    {
     "name": "stdout",
     "output_type": "stream",
     "text": [
      "Gathering Player Data\n"
     ]
    },
    {
     "name": "stderr",
     "output_type": "stream",
     "text": [
      "\r 13%|█▎        | 66/520 [04:36<31:41,  4.19s/it]"
     ]
    },
    {
     "name": "stdout",
     "output_type": "stream",
     "text": [
      "Gathering Player Data\n"
     ]
    },
    {
     "name": "stderr",
     "output_type": "stream",
     "text": [
      "\r 13%|█▎        | 67/520 [04:40<31:10,  4.13s/it]"
     ]
    },
    {
     "name": "stdout",
     "output_type": "stream",
     "text": [
      "Gathering Player Data\n"
     ]
    },
    {
     "name": "stderr",
     "output_type": "stream",
     "text": [
      "\r 13%|█▎        | 68/520 [04:45<31:31,  4.19s/it]"
     ]
    },
    {
     "name": "stdout",
     "output_type": "stream",
     "text": [
      "Gathering Player Data\n"
     ]
    },
    {
     "name": "stderr",
     "output_type": "stream",
     "text": [
      "\r 13%|█▎        | 69/520 [04:49<31:47,  4.23s/it]"
     ]
    },
    {
     "name": "stdout",
     "output_type": "stream",
     "text": [
      "Gathering Player Data\n"
     ]
    },
    {
     "name": "stderr",
     "output_type": "stream",
     "text": [
      "\r 13%|█▎        | 70/520 [04:52<29:08,  3.88s/it]"
     ]
    },
    {
     "name": "stdout",
     "output_type": "stream",
     "text": [
      "Gathering Player Data\n"
     ]
    },
    {
     "name": "stderr",
     "output_type": "stream",
     "text": [
      "\r 14%|█▎        | 71/520 [04:56<30:13,  4.04s/it]"
     ]
    },
    {
     "name": "stdout",
     "output_type": "stream",
     "text": [
      "Gathering Player Data\n"
     ]
    },
    {
     "name": "stderr",
     "output_type": "stream",
     "text": [
      "\r 14%|█▍        | 72/520 [05:01<30:35,  4.10s/it]"
     ]
    },
    {
     "name": "stdout",
     "output_type": "stream",
     "text": [
      "Gathering Player Data\n"
     ]
    },
    {
     "name": "stderr",
     "output_type": "stream",
     "text": [
      "\r 14%|█▍        | 73/520 [05:07<36:35,  4.91s/it]"
     ]
    },
    {
     "name": "stdout",
     "output_type": "stream",
     "text": [
      "Gathering Player Data\n"
     ]
    },
    {
     "name": "stderr",
     "output_type": "stream",
     "text": [
      "\r 14%|█▍        | 74/520 [05:11<34:39,  4.66s/it]"
     ]
    },
    {
     "name": "stdout",
     "output_type": "stream",
     "text": [
      "Gathering Player Data\n"
     ]
    },
    {
     "name": "stderr",
     "output_type": "stream",
     "text": [
      "\r 14%|█▍        | 75/520 [05:16<34:37,  4.67s/it]"
     ]
    },
    {
     "name": "stdout",
     "output_type": "stream",
     "text": [
      "Gathering Player Data\n"
     ]
    },
    {
     "name": "stderr",
     "output_type": "stream",
     "text": [
      "\r 15%|█▍        | 76/520 [05:25<42:48,  5.78s/it]"
     ]
    },
    {
     "name": "stdout",
     "output_type": "stream",
     "text": [
      "Gathering Player Data\n"
     ]
    },
    {
     "name": "stderr",
     "output_type": "stream",
     "text": [
      "\r 15%|█▍        | 77/520 [05:29<39:33,  5.36s/it]"
     ]
    },
    {
     "name": "stdout",
     "output_type": "stream",
     "text": [
      "Gathering Player Data\n"
     ]
    },
    {
     "name": "stderr",
     "output_type": "stream",
     "text": [
      "\r 15%|█▌        | 78/520 [05:33<36:27,  4.95s/it]"
     ]
    },
    {
     "name": "stdout",
     "output_type": "stream",
     "text": [
      "Gathering Player Data\n"
     ]
    },
    {
     "name": "stderr",
     "output_type": "stream",
     "text": [
      "\r 15%|█▌        | 79/520 [05:37<34:45,  4.73s/it]"
     ]
    },
    {
     "name": "stdout",
     "output_type": "stream",
     "text": [
      "Gathering Player Data\n"
     ]
    },
    {
     "name": "stderr",
     "output_type": "stream",
     "text": [
      "\r 15%|█▌        | 80/520 [05:40<31:20,  4.27s/it]"
     ]
    },
    {
     "name": "stdout",
     "output_type": "stream",
     "text": [
      "Gathering Player Data\n"
     ]
    },
    {
     "name": "stderr",
     "output_type": "stream",
     "text": [
      "\r 16%|█▌        | 81/520 [05:45<31:56,  4.37s/it]"
     ]
    },
    {
     "name": "stdout",
     "output_type": "stream",
     "text": [
      "Gathering Player Data\n"
     ]
    },
    {
     "name": "stderr",
     "output_type": "stream",
     "text": [
      "\r 16%|█▌        | 82/520 [05:49<31:50,  4.36s/it]"
     ]
    },
    {
     "name": "stdout",
     "output_type": "stream",
     "text": [
      "Gathering Player Data\n"
     ]
    },
    {
     "name": "stderr",
     "output_type": "stream",
     "text": [
      "\r 16%|█▌        | 83/520 [05:55<35:49,  4.92s/it]"
     ]
    },
    {
     "name": "stdout",
     "output_type": "stream",
     "text": [
      "Gathering Player Data\n"
     ]
    },
    {
     "name": "stderr",
     "output_type": "stream",
     "text": [
      "\r 16%|█▌        | 84/520 [05:59<32:49,  4.52s/it]"
     ]
    },
    {
     "name": "stdout",
     "output_type": "stream",
     "text": [
      "Gathering Player Data\n"
     ]
    },
    {
     "name": "stderr",
     "output_type": "stream",
     "text": [
      "\r 16%|█▋        | 85/520 [06:03<30:40,  4.23s/it]"
     ]
    },
    {
     "name": "stdout",
     "output_type": "stream",
     "text": [
      "Gathering Player Data\n"
     ]
    },
    {
     "name": "stderr",
     "output_type": "stream",
     "text": [
      "\r 17%|█▋        | 86/520 [06:07<31:24,  4.34s/it]"
     ]
    },
    {
     "name": "stdout",
     "output_type": "stream",
     "text": [
      "Gathering Player Data\n"
     ]
    },
    {
     "name": "stderr",
     "output_type": "stream",
     "text": [
      "\r 17%|█▋        | 87/520 [06:12<31:36,  4.38s/it]"
     ]
    },
    {
     "name": "stdout",
     "output_type": "stream",
     "text": [
      "Gathering Player Data\n"
     ]
    },
    {
     "name": "stderr",
     "output_type": "stream",
     "text": [
      "\r 17%|█▋        | 88/520 [06:15<28:21,  3.94s/it]"
     ]
    },
    {
     "name": "stdout",
     "output_type": "stream",
     "text": [
      "Gathering Player Data\n"
     ]
    },
    {
     "name": "stderr",
     "output_type": "stream",
     "text": [
      " 17%|█▋        | 88/520 [06:18<30:58,  4.30s/it]\n"
     ]
    },
    {
     "ename": "ParserError",
     "evalue": "Error tokenizing data. C error: Expected 1 fields in line 13, saw 2\n",
     "output_type": "error",
     "traceback": [
      "\u001b[0;31m---------------------------------------------------------------------------\u001b[0m\n",
      "\u001b[0;31mParserError\u001b[0m                               Traceback (most recent call last)\n",
      "Cell \u001b[0;32mIn[20], line 20\u001b[0m\n",
      "\u001b[1;32m     17\u001b[0m season_pitcher_list \u001b[38;5;241m=\u001b[39m []\n",
      "\u001b[1;32m     19\u001b[0m \u001b[38;5;28;01mfor\u001b[39;00m pitcher \u001b[38;5;129;01min\u001b[39;00m tqdm(season_pitchers):\n",
      "\u001b[0;32m---> 20\u001b[0m     p \u001b[38;5;241m=\u001b[39m \u001b[43mpb\u001b[49m\u001b[38;5;241;43m.\u001b[39;49m\u001b[43mstatcast_pitcher\u001b[49m\u001b[43m(\u001b[49m\u001b[43mstart\u001b[49m\u001b[43m,\u001b[49m\u001b[43m \u001b[49m\u001b[43mstop\u001b[49m\u001b[43m,\u001b[49m\u001b[43m \u001b[49m\u001b[43mplayer_id\u001b[49m\u001b[38;5;241;43m=\u001b[39;49m\u001b[43mpitcher\u001b[49m\u001b[43m)\u001b[49m\n",
      "\u001b[1;32m     21\u001b[0m     p \u001b[38;5;241m=\u001b[39m pl\u001b[38;5;241m.\u001b[39mfrom_pandas(p)\n",
      "\u001b[1;32m     22\u001b[0m     p \u001b[38;5;241m=\u001b[39m p\u001b[38;5;241m.\u001b[39mwith_columns(pl\u001b[38;5;241m.\u001b[39mlit(season)\u001b[38;5;241m.\u001b[39malias(\u001b[38;5;124m\"\u001b[39m\u001b[38;5;124mseason\u001b[39m\u001b[38;5;124m\"\u001b[39m))\n",
      "\n",
      "File \u001b[0;32m/opt/miniconda3/envs/ninja/lib/python3.12/site-packages/pybaseball/statcast_pitcher.py:30\u001b[0m, in \u001b[0;36mstatcast_pitcher\u001b[0;34m(start_dt, end_dt, player_id)\u001b[0m\n",
      "\u001b[1;32m     27\u001b[0m \u001b[38;5;28;01massert\u001b[39;00m player_id\n",
      "\u001b[1;32m     29\u001b[0m url \u001b[38;5;241m=\u001b[39m \u001b[38;5;124m'\u001b[39m\u001b[38;5;124mhttps://baseballsavant.mlb.com/statcast_search/csv?all=true&hfPT=&hfAB=&hfBBT=&hfPR=&hfZ=&stadium=&hfBBL=&hfNewZones=&hfGT=R\u001b[39m\u001b[38;5;124m%\u001b[39m\u001b[38;5;124m7CPO\u001b[39m\u001b[38;5;124m%\u001b[39m\u001b[38;5;124m7CS\u001b[39m\u001b[38;5;124m%\u001b[39m\u001b[38;5;124m7C=&hfSea=&hfSit=&player_type=pitcher&hfOuts=&opponent=&pitcher_throws=&batter_stands=&hfSA=&game_date_gt=\u001b[39m\u001b[38;5;132;01m{}\u001b[39;00m\u001b[38;5;124m&game_date_lt=\u001b[39m\u001b[38;5;132;01m{}\u001b[39;00m\u001b[38;5;124m&pitchers_lookup\u001b[39m\u001b[38;5;124m%\u001b[39m\u001b[38;5;124m5B\u001b[39m\u001b[38;5;124m%\u001b[39m\u001b[38;5;124m5D=\u001b[39m\u001b[38;5;132;01m{}\u001b[39;00m\u001b[38;5;124m&team=&position=&hfRO=&home_road=&hfFlag=&metric_1=&hfInn=&min_pitches=0&min_results=0&group_by=name&sort_col=pitches&player_event_sort=h_launch_speed&sort_order=desc&min_abs=0&type=details&\u001b[39m\u001b[38;5;124m'\u001b[39m\n",
      "\u001b[0;32m---> 30\u001b[0m df \u001b[38;5;241m=\u001b[39m \u001b[43msplit_request\u001b[49m\u001b[43m(\u001b[49m\u001b[43mstart_dt\u001b[49m\u001b[43m,\u001b[49m\u001b[43m \u001b[49m\u001b[43mend_dt\u001b[49m\u001b[43m,\u001b[49m\u001b[43m \u001b[49m\u001b[43mplayer_id\u001b[49m\u001b[43m,\u001b[49m\u001b[43m \u001b[49m\u001b[43murl\u001b[49m\u001b[43m)\u001b[49m\n",
      "\u001b[1;32m     32\u001b[0m \u001b[38;5;28;01mreturn\u001b[39;00m df\n",
      "\n",
      "File \u001b[0;32m/opt/miniconda3/envs/ninja/lib/python3.12/site-packages/pybaseball/cache/cache.py:58\u001b[0m, in \u001b[0;36mdf_cache.__call__.<locals>._cached\u001b[0;34m(*args, **kwargs)\u001b[0m\n",
      "\u001b[1;32m     55\u001b[0m result \u001b[38;5;241m=\u001b[39m \u001b[38;5;28mself\u001b[39m\u001b[38;5;241m.\u001b[39m_safe_load_func_cache(func_data)\n",
      "\u001b[1;32m     57\u001b[0m \u001b[38;5;28;01mif\u001b[39;00m result \u001b[38;5;129;01mis\u001b[39;00m \u001b[38;5;28;01mNone\u001b[39;00m:\n",
      "\u001b[0;32m---> 58\u001b[0m     result \u001b[38;5;241m=\u001b[39m \u001b[43mfunc\u001b[49m\u001b[43m(\u001b[49m\u001b[38;5;241;43m*\u001b[39;49m\u001b[43margs\u001b[49m\u001b[43m,\u001b[49m\u001b[43m \u001b[49m\u001b[38;5;241;43m*\u001b[39;49m\u001b[38;5;241;43m*\u001b[39;49m\u001b[43mkwargs\u001b[49m\u001b[43m)\u001b[49m\n",
      "\u001b[1;32m     59\u001b[0m     \u001b[38;5;28;01mif\u001b[39;00m \u001b[38;5;28mlen\u001b[39m(result) \u001b[38;5;241m>\u001b[39m \u001b[38;5;241m0\u001b[39m:\n",
      "\u001b[1;32m     60\u001b[0m         \u001b[38;5;28mself\u001b[39m\u001b[38;5;241m.\u001b[39m_safe_save_func_cache(func_data, result)\n",
      "\n",
      "File \u001b[0;32m/opt/miniconda3/envs/ninja/lib/python3.12/site-packages/pybaseball/utils.py:295\u001b[0m, in \u001b[0;36msplit_request\u001b[0;34m(start_dt, end_dt, player_id, url)\u001b[0m\n",
      "\u001b[1;32m    293\u001b[0m \u001b[38;5;66;03m# retrieve data\u001b[39;00m\n",
      "\u001b[1;32m    294\u001b[0m data \u001b[38;5;241m=\u001b[39m requests\u001b[38;5;241m.\u001b[39mget(url\u001b[38;5;241m.\u001b[39mformat(start_str, end_str, player_id_str))\n",
      "\u001b[0;32m--> 295\u001b[0m df \u001b[38;5;241m=\u001b[39m \u001b[43mpd\u001b[49m\u001b[38;5;241;43m.\u001b[39;49m\u001b[43mread_csv\u001b[49m\u001b[43m(\u001b[49m\u001b[43mio\u001b[49m\u001b[38;5;241;43m.\u001b[39;49m\u001b[43mStringIO\u001b[49m\u001b[43m(\u001b[49m\u001b[43mdata\u001b[49m\u001b[38;5;241;43m.\u001b[39;49m\u001b[43mtext\u001b[49m\u001b[43m)\u001b[49m\u001b[43m)\u001b[49m\n",
      "\u001b[1;32m    296\u001b[0m \u001b[38;5;66;03m# add data to list and increment current dates\u001b[39;00m\n",
      "\u001b[1;32m    297\u001b[0m results\u001b[38;5;241m.\u001b[39mappend(df)\n",
      "\n",
      "File \u001b[0;32m/opt/miniconda3/envs/ninja/lib/python3.12/site-packages/pandas/io/parsers/readers.py:1026\u001b[0m, in \u001b[0;36mread_csv\u001b[0;34m(filepath_or_buffer, sep, delimiter, header, names, index_col, usecols, dtype, engine, converters, true_values, false_values, skipinitialspace, skiprows, skipfooter, nrows, na_values, keep_default_na, na_filter, verbose, skip_blank_lines, parse_dates, infer_datetime_format, keep_date_col, date_parser, date_format, dayfirst, cache_dates, iterator, chunksize, compression, thousands, decimal, lineterminator, quotechar, quoting, doublequote, escapechar, comment, encoding, encoding_errors, dialect, on_bad_lines, delim_whitespace, low_memory, memory_map, float_precision, storage_options, dtype_backend)\u001b[0m\n",
      "\u001b[1;32m   1013\u001b[0m kwds_defaults \u001b[38;5;241m=\u001b[39m _refine_defaults_read(\n",
      "\u001b[1;32m   1014\u001b[0m     dialect,\n",
      "\u001b[1;32m   1015\u001b[0m     delimiter,\n",
      "\u001b[0;32m   (...)\u001b[0m\n",
      "\u001b[1;32m   1022\u001b[0m     dtype_backend\u001b[38;5;241m=\u001b[39mdtype_backend,\n",
      "\u001b[1;32m   1023\u001b[0m )\n",
      "\u001b[1;32m   1024\u001b[0m kwds\u001b[38;5;241m.\u001b[39mupdate(kwds_defaults)\n",
      "\u001b[0;32m-> 1026\u001b[0m \u001b[38;5;28;01mreturn\u001b[39;00m \u001b[43m_read\u001b[49m\u001b[43m(\u001b[49m\u001b[43mfilepath_or_buffer\u001b[49m\u001b[43m,\u001b[49m\u001b[43m \u001b[49m\u001b[43mkwds\u001b[49m\u001b[43m)\u001b[49m\n",
      "\n",
      "File \u001b[0;32m/opt/miniconda3/envs/ninja/lib/python3.12/site-packages/pandas/io/parsers/readers.py:626\u001b[0m, in \u001b[0;36m_read\u001b[0;34m(filepath_or_buffer, kwds)\u001b[0m\n",
      "\u001b[1;32m    623\u001b[0m     \u001b[38;5;28;01mreturn\u001b[39;00m parser\n",
      "\u001b[1;32m    625\u001b[0m \u001b[38;5;28;01mwith\u001b[39;00m parser:\n",
      "\u001b[0;32m--> 626\u001b[0m     \u001b[38;5;28;01mreturn\u001b[39;00m \u001b[43mparser\u001b[49m\u001b[38;5;241;43m.\u001b[39;49m\u001b[43mread\u001b[49m\u001b[43m(\u001b[49m\u001b[43mnrows\u001b[49m\u001b[43m)\u001b[49m\n",
      "\n",
      "File \u001b[0;32m/opt/miniconda3/envs/ninja/lib/python3.12/site-packages/pandas/io/parsers/readers.py:1923\u001b[0m, in \u001b[0;36mTextFileReader.read\u001b[0;34m(self, nrows)\u001b[0m\n",
      "\u001b[1;32m   1916\u001b[0m nrows \u001b[38;5;241m=\u001b[39m validate_integer(\u001b[38;5;124m\"\u001b[39m\u001b[38;5;124mnrows\u001b[39m\u001b[38;5;124m\"\u001b[39m, nrows)\n",
      "\u001b[1;32m   1917\u001b[0m \u001b[38;5;28;01mtry\u001b[39;00m:\n",
      "\u001b[1;32m   1918\u001b[0m     \u001b[38;5;66;03m# error: \"ParserBase\" has no attribute \"read\"\u001b[39;00m\n",
      "\u001b[1;32m   1919\u001b[0m     (\n",
      "\u001b[1;32m   1920\u001b[0m         index,\n",
      "\u001b[1;32m   1921\u001b[0m         columns,\n",
      "\u001b[1;32m   1922\u001b[0m         col_dict,\n",
      "\u001b[0;32m-> 1923\u001b[0m     ) \u001b[38;5;241m=\u001b[39m \u001b[38;5;28;43mself\u001b[39;49m\u001b[38;5;241;43m.\u001b[39;49m\u001b[43m_engine\u001b[49m\u001b[38;5;241;43m.\u001b[39;49m\u001b[43mread\u001b[49m\u001b[43m(\u001b[49m\u001b[43m  \u001b[49m\u001b[38;5;66;43;03m# type: ignore[attr-defined]\u001b[39;49;00m\n",
      "\u001b[1;32m   1924\u001b[0m \u001b[43m        \u001b[49m\u001b[43mnrows\u001b[49m\n",
      "\u001b[1;32m   1925\u001b[0m \u001b[43m    \u001b[49m\u001b[43m)\u001b[49m\n",
      "\u001b[1;32m   1926\u001b[0m \u001b[38;5;28;01mexcept\u001b[39;00m \u001b[38;5;167;01mException\u001b[39;00m:\n",
      "\u001b[1;32m   1927\u001b[0m     \u001b[38;5;28mself\u001b[39m\u001b[38;5;241m.\u001b[39mclose()\n",
      "\n",
      "File \u001b[0;32m/opt/miniconda3/envs/ninja/lib/python3.12/site-packages/pandas/io/parsers/c_parser_wrapper.py:234\u001b[0m, in \u001b[0;36mCParserWrapper.read\u001b[0;34m(self, nrows)\u001b[0m\n",
      "\u001b[1;32m    232\u001b[0m \u001b[38;5;28;01mtry\u001b[39;00m:\n",
      "\u001b[1;32m    233\u001b[0m     \u001b[38;5;28;01mif\u001b[39;00m \u001b[38;5;28mself\u001b[39m\u001b[38;5;241m.\u001b[39mlow_memory:\n",
      "\u001b[0;32m--> 234\u001b[0m         chunks \u001b[38;5;241m=\u001b[39m \u001b[38;5;28;43mself\u001b[39;49m\u001b[38;5;241;43m.\u001b[39;49m\u001b[43m_reader\u001b[49m\u001b[38;5;241;43m.\u001b[39;49m\u001b[43mread_low_memory\u001b[49m\u001b[43m(\u001b[49m\u001b[43mnrows\u001b[49m\u001b[43m)\u001b[49m\n",
      "\u001b[1;32m    235\u001b[0m         \u001b[38;5;66;03m# destructive to chunks\u001b[39;00m\n",
      "\u001b[1;32m    236\u001b[0m         data \u001b[38;5;241m=\u001b[39m _concatenate_chunks(chunks)\n",
      "\n",
      "File \u001b[0;32mparsers.pyx:838\u001b[0m, in \u001b[0;36mpandas._libs.parsers.TextReader.read_low_memory\u001b[0;34m()\u001b[0m\n",
      "\n",
      "File \u001b[0;32mparsers.pyx:905\u001b[0m, in \u001b[0;36mpandas._libs.parsers.TextReader._read_rows\u001b[0;34m()\u001b[0m\n",
      "\n",
      "File \u001b[0;32mparsers.pyx:874\u001b[0m, in \u001b[0;36mpandas._libs.parsers.TextReader._tokenize_rows\u001b[0;34m()\u001b[0m\n",
      "\n",
      "File \u001b[0;32mparsers.pyx:891\u001b[0m, in \u001b[0;36mpandas._libs.parsers.TextReader._check_tokenize_status\u001b[0;34m()\u001b[0m\n",
      "\n",
      "File \u001b[0;32mparsers.pyx:2061\u001b[0m, in \u001b[0;36mpandas._libs.parsers.raise_parser_error\u001b[0;34m()\u001b[0m\n",
      "\n",
      "\u001b[0;31mParserError\u001b[0m: Error tokenizing data. C error: Expected 1 fields in line 13, saw 2\n"
     ]
    }
   ],
   "source": [
    "from tqdm import tqdm\n",
    "\n",
    "seasons = [2021, 2022, 2023, 2024]\n",
    "season_list = []\n",
    "\n",
    "for season in seasons:\n",
    "    print(seasons)\n",
    "    dates = get_season_start_end(season = season)\n",
    "    start = dates[0]\n",
    "    stop = dates[1]\n",
    "    season_pitchers = (pitchers\n",
    "                        .filter(pl.col(\"season\") == season)\n",
    "                        .filter(pl.col(\"ip\") >= 20)\n",
    "                        .select([\"mlbid\"])\n",
    "                        .to_series()\n",
    "                        .to_list())\n",
    "    season_pitcher_list = []\n",
    "    \n",
    "    for pitcher in tqdm(season_pitchers):\n",
    "        p = pb.statcast_pitcher(start, stop, player_id=pitcher)\n",
    "        p = pl.from_pandas(p)\n",
    "        p = p.with_columns(pl.lit(season).alias(\"season\"))\n",
    "        season_pitcher_list.append(p)\n",
    "\n",
    "    season_pitcher_frame = pl.concat(season_pitcher_list)\n",
    "    season_pitcher_frame.write_parquet(f\"../src/ninjalytics/data/pitches_{season}.parquet\")\n",
    "\n",
    "\n",
    "    \n",
    "\n",
    "\n"
   ]
  },
  {
   "cell_type": "code",
   "execution_count": 9,
   "metadata": {},
   "outputs": [],
   "source": [
    "\n",
    "season_pitchers = (pitchers\n",
    "                    .filter(pl.col(\"season\") == 2022)\n",
    "                    .filter(pl.col(\"ip\") >= 20)\n",
    "                    .select([\"mlbid\"])\n",
    "                    .to_series()\n",
    "                    .to_list())"
   ]
  },
  {
   "cell_type": "code",
   "execution_count": 12,
   "metadata": {},
   "outputs": [
    {
     "data": {
      "text/plain": [
       "[676265,\n",
       " 656061,\n",
       " 650556,\n",
       " 642758,\n",
       " 592094,\n",
       " 672851,\n",
       " 669211,\n",
       " 645261,\n",
       " 669920,\n",
       " 641302,\n",
       " 663465,\n",
       " 622075,\n",
       " 621237,\n",
       " 502624,\n",
       " 666120,\n",
       " 542881,\n",
       " 644364,\n",
       " 502042,\n",
       " 685503,\n",
       " 676879,\n",
       " 668933,\n",
       " 665871,\n",
       " 641329,\n",
       " 621383,\n",
       " 453268,\n",
       " 669618,\n",
       " 605130,\n",
       " 606930,\n",
       " 598264,\n",
       " 642545,\n",
       " 605135,\n",
       " 657508,\n",
       " 642585,\n",
       " 669358,\n",
       " 670280,\n",
       " 595881,\n",
       " 656222,\n",
       " 571479,\n",
       " 678394,\n",
       " 621244,\n",
       " 641360,\n",
       " 669456,\n",
       " 656234,\n",
       " 621389,\n",
       " 621112,\n",
       " 542947,\n",
       " 621366,\n",
       " 502202,\n",
       " 680694,\n",
       " 666374,\n",
       " 518489,\n",
       " 623211,\n",
       " 605154,\n",
       " 689225,\n",
       " 656257,\n",
       " 641401,\n",
       " 686613,\n",
       " 664141,\n",
       " 677865,\n",
       " 663460,\n",
       " 621111,\n",
       " 518516,\n",
       " 607481,\n",
       " 605164,\n",
       " 656271,\n",
       " 669203,\n",
       " 665795,\n",
       " 650893,\n",
       " 471911,\n",
       " 641447,\n",
       " 528748,\n",
       " 650895,\n",
       " 666721,\n",
       " 612434,\n",
       " 656302,\n",
       " 570666,\n",
       " 468504,\n",
       " 605177,\n",
       " 547973,\n",
       " 608638,\n",
       " 643256,\n",
       " 518553,\n",
       " 542585,\n",
       " 650644,\n",
       " 664199,\n",
       " 661403,\n",
       " 605182,\n",
       " 502171,\n",
       " 543037,\n",
       " 669395,\n",
       " 517008,\n",
       " 672710,\n",
       " 571578,\n",
       " 641482,\n",
       " 676710,\n",
       " 622503,\n",
       " 640444,\n",
       " 621016,\n",
       " 456501,\n",
       " 641501,\n",
       " 506433,\n",
       " 605200,\n",
       " 656354,\n",
       " 608328,\n",
       " 660853,\n",
       " 660787,\n",
       " 594798,\n",
       " 672282,\n",
       " 446321,\n",
       " 664747,\n",
       " 621242,\n",
       " 518617,\n",
       " 622554,\n",
       " 666808,\n",
       " 608648,\n",
       " 643290,\n",
       " 641540,\n",
       " 661395,\n",
       " 605218,\n",
       " 621107,\n",
       " 693821,\n",
       " 543135,\n",
       " 502179,\n",
       " 608032,\n",
       " 656412,\n",
       " 664126,\n",
       " 663559,\n",
       " 571656,\n",
       " 676534,\n",
       " 607200,\n",
       " 663372,\n",
       " 657571,\n",
       " 670036,\n",
       " 656420,\n",
       " 640448,\n",
       " 656427,\n",
       " 676596,\n",
       " 623167,\n",
       " 571670,\n",
       " 671345,\n",
       " 641582,\n",
       " 607536,\n",
       " 608331,\n",
       " 605242,\n",
       " 606149,\n",
       " 668678,\n",
       " 650530,\n",
       " 606424,\n",
       " 472610,\n",
       " 677651,\n",
       " 665621,\n",
       " 554340,\n",
       " 607237,\n",
       " 666129,\n",
       " 621248,\n",
       " 592332,\n",
       " 593334,\n",
       " 502043,\n",
       " 669302,\n",
       " 656457,\n",
       " 656458,\n",
       " 656464,\n",
       " 608337,\n",
       " 571710,\n",
       " 596295,\n",
       " 664062,\n",
       " 594835,\n",
       " 669022,\n",
       " 543238,\n",
       " 641627,\n",
       " 623485,\n",
       " 660813,\n",
       " 608665,\n",
       " 592351,\n",
       " 680686,\n",
       " 543243,\n",
       " 668881,\n",
       " 425844,\n",
       " 675627,\n",
       " 594311,\n",
       " 661269,\n",
       " 623352,\n",
       " 543272,\n",
       " 640451,\n",
       " 571760,\n",
       " 621368,\n",
       " 669169,\n",
       " 664854,\n",
       " 592390,\n",
       " 543294,\n",
       " 521230,\n",
       " 674072,\n",
       " 656529,\n",
       " 623474,\n",
       " 672578,\n",
       " 622694,\n",
       " 642546,\n",
       " 663855,\n",
       " 682051,\n",
       " 448179,\n",
       " 657612,\n",
       " 663546,\n",
       " 656546,\n",
       " 670059,\n",
       " 605280,\n",
       " 656557,\n",
       " 605288,\n",
       " 675921,\n",
       " 641712,\n",
       " 543339,\n",
       " 676714,\n",
       " 488984,\n",
       " 571800,\n",
       " 608344,\n",
       " 667427,\n",
       " 686753,\n",
       " 445276,\n",
       " 664299,\n",
       " 643377,\n",
       " 641726,\n",
       " 666204,\n",
       " 641729,\n",
       " 596001,\n",
       " 621076,\n",
       " 675916,\n",
       " 641745,\n",
       " 656605,\n",
       " 665001,\n",
       " 523260,\n",
       " 518876,\n",
       " 453178,\n",
       " 477132,\n",
       " 579328,\n",
       " 518886,\n",
       " 667463,\n",
       " 650633,\n",
       " 641755,\n",
       " 669923,\n",
       " 552640,\n",
       " 446372,\n",
       " 608349,\n",
       " 657649,\n",
       " 656629,\n",
       " 607216,\n",
       " 665152,\n",
       " 641771,\n",
       " 669270,\n",
       " 669424,\n",
       " 659275,\n",
       " 656638,\n",
       " 641778,\n",
       " 664875,\n",
       " 600917,\n",
       " 669276,\n",
       " 643410,\n",
       " 608678,\n",
       " 669461,\n",
       " 641793,\n",
       " 642528,\n",
       " 666157,\n",
       " 656657,\n",
       " 669674,\n",
       " 605347,\n",
       " 641154,\n",
       " 625643,\n",
       " 547179,\n",
       " 571901,\n",
       " 476595,\n",
       " 607625,\n",
       " 666200,\n",
       " 543475,\n",
       " 663738,\n",
       " 458681,\n",
       " 600921,\n",
       " 640455,\n",
       " 666159,\n",
       " 666201,\n",
       " 573009,\n",
       " 676760,\n",
       " 608566,\n",
       " 628708,\n",
       " 656685,\n",
       " 455119,\n",
       " 656686,\n",
       " 663436,\n",
       " 661309,\n",
       " 607259,\n",
       " 661527,\n",
       " 664208,\n",
       " 571927,\n",
       " 554431,\n",
       " 669160,\n",
       " 543507,\n",
       " 594577,\n",
       " 641835,\n",
       " 668948,\n",
       " 663556,\n",
       " 621121,\n",
       " 519008,\n",
       " 459429,\n",
       " 543521,\n",
       " 663474,\n",
       " 658431,\n",
       " 656730,\n",
       " 656731,\n",
       " 453343,\n",
       " 657240,\n",
       " 571945,\n",
       " 489119,\n",
       " 670090,\n",
       " 571948,\n",
       " 501985,\n",
       " 621345,\n",
       " 664948,\n",
       " 594580,\n",
       " 593423,\n",
       " 606160,\n",
       " 519043,\n",
       " 663558,\n",
       " 670970,\n",
       " 664294,\n",
       " 669212,\n",
       " 606625,\n",
       " 663752,\n",
       " 450203,\n",
       " 662253,\n",
       " 682171,\n",
       " 605397,\n",
       " 667297,\n",
       " 676050,\n",
       " 669459,\n",
       " 656793,\n",
       " 593576,\n",
       " 656794,\n",
       " 668665,\n",
       " 605400,\n",
       " 503285,\n",
       " 641927,\n",
       " 660271,\n",
       " 595345,\n",
       " 670124,\n",
       " 672391,\n",
       " 661383,\n",
       " 493603,\n",
       " 657248,\n",
       " 656818,\n",
       " 670912,\n",
       " 663978,\n",
       " 641941,\n",
       " 669467,\n",
       " 672715,\n",
       " 606303,\n",
       " 686752,\n",
       " 642547,\n",
       " 593974,\n",
       " 503449,\n",
       " 606131,\n",
       " 672335,\n",
       " 527048,\n",
       " 596071,\n",
       " 656849,\n",
       " 475479,\n",
       " 623465,\n",
       " 663455,\n",
       " 501381,\n",
       " 601713,\n",
       " 668676,\n",
       " 621363,\n",
       " 664092,\n",
       " 547001,\n",
       " 519151,\n",
       " 456034,\n",
       " 643493,\n",
       " 640462,\n",
       " 615698,\n",
       " 650671,\n",
       " 500779,\n",
       " 666142,\n",
       " 663432,\n",
       " 548384,\n",
       " 541640,\n",
       " 598287,\n",
       " 656876,\n",
       " 592662,\n",
       " 572070,\n",
       " 670950,\n",
       " 502085,\n",
       " 570663,\n",
       " 607074,\n",
       " 593958,\n",
       " 660730,\n",
       " 570257,\n",
       " 642028,\n",
       " 573124,\n",
       " 669432,\n",
       " 643511,\n",
       " 605447,\n",
       " 621074,\n",
       " 614179,\n",
       " 657746,\n",
       " 547943,\n",
       " 592716,\n",
       " 434671,\n",
       " 650911,\n",
       " 680704,\n",
       " 663776,\n",
       " 663485,\n",
       " 665665,\n",
       " 642701,\n",
       " 617228,\n",
       " 622250,\n",
       " 453286,\n",
       " 657376,\n",
       " 670167,\n",
       " 656945,\n",
       " 676664,\n",
       " 622608,\n",
       " 622663,\n",
       " 623149,\n",
       " 543766,\n",
       " 592741,\n",
       " 681217,\n",
       " 663903,\n",
       " 669373,\n",
       " 656970,\n",
       " 592761,\n",
       " 622098,\n",
       " 501925,\n",
       " 592767,\n",
       " 669912,\n",
       " 605483,\n",
       " 676092,\n",
       " 642397,\n",
       " 656986,\n",
       " 605488,\n",
       " 489334,\n",
       " 592773,\n",
       " 622251,\n",
       " 657006,\n",
       " 663986,\n",
       " 623451,\n",
       " 596112,\n",
       " 657770,\n",
       " 621381,\n",
       " 608717,\n",
       " 519326,\n",
       " 675911,\n",
       " 548389,\n",
       " 573186,\n",
       " 657265,\n",
       " 660761,\n",
       " 624133,\n",
       " 663158,\n",
       " 642121,\n",
       " 608718,\n",
       " 657024,\n",
       " 664161,\n",
       " 592791,\n",
       " 622253,\n",
       " 572193,\n",
       " 676194,\n",
       " 573204,\n",
       " 624522,\n",
       " 666168,\n",
       " 657044,\n",
       " 605507,\n",
       " 668868,\n",
       " 663423,\n",
       " 622786,\n",
       " 657053,\n",
       " 642152,\n",
       " 657272,\n",
       " 621249,\n",
       " 570632,\n",
       " 628711,\n",
       " 664353,\n",
       " 664285,\n",
       " 686973,\n",
       " 592826,\n",
       " 572403,\n",
       " 434378,\n",
       " 681911,\n",
       " 663989,\n",
       " 676684,\n",
       " 608379,\n",
       " 425794,\n",
       " 686610,\n",
       " 592836,\n",
       " 681806,\n",
       " 605521,\n",
       " 657093,\n",
       " 657277,\n",
       " 607179,\n",
       " 669330,\n",
       " 605525,\n",
       " 666214,\n",
       " 669713,\n",
       " 554430,\n",
       " 676477,\n",
       " 592858,\n",
       " 642207,\n",
       " 592866,\n",
       " 669060,\n",
       " 621051,\n",
       " 670174,\n",
       " 680739,\n",
       " 605538,\n",
       " 621295,\n",
       " 622072,\n",
       " 663765,\n",
       " 605540,\n",
       " 657140,\n",
       " 664337,\n",
       " 642232,\n",
       " 669145]"
      ]
     },
     "execution_count": null,
     "metadata": {},
     "output_type": "execute_result"
    }
   ],
   "source": [
    "season_pitchers.to_series().to_list()"
   ]
  }
 ],
 "metadata": {
  "language_info": {
   "name": "python"
  }
 },
 "nbformat": 4,
 "nbformat_minor": 2
}
